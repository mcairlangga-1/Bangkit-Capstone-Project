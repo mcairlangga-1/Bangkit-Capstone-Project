{
  "nbformat": 4,
  "nbformat_minor": 0,
  "metadata": {
    "colab": {
      "name": "FinalModel.ipynb",
      "provenance": [],
      "collapsed_sections": [],
      "include_colab_link": true
    },
    "kernelspec": {
      "name": "python3",
      "display_name": "Python 3"
    },
    "language_info": {
      "name": "python"
    },
    "accelerator": "GPU"
  },
  "cells": [
    {
      "cell_type": "markdown",
      "metadata": {
        "id": "view-in-github",
        "colab_type": "text"
      },
      "source": [
        "<a href=\"https://colab.research.google.com/github/mcairlangga-1/Bangkit-Capstone-Project/blob/main/FinalModel.ipynb\" target=\"_parent\"><img src=\"https://colab.research.google.com/assets/colab-badge.svg\" alt=\"Open In Colab\"/></a>"
      ]
    },
    {
      "cell_type": "code",
      "metadata": {
        "colab": {
          "base_uri": "https://localhost:8080/"
        },
        "id": "upQn5aoY1AZt",
        "outputId": "3b51408a-3c74-4d32-8d0e-1dccc311ba3d"
      },
      "source": [
        "from google.colab import drive\n",
        "drive.mount('/content/drive')"
      ],
      "execution_count": null,
      "outputs": [
        {
          "output_type": "stream",
          "text": [
            "Mounted at /content/drive\n"
          ],
          "name": "stdout"
        }
      ]
    },
    {
      "cell_type": "code",
      "metadata": {
        "colab": {
          "base_uri": "https://localhost:8080/"
        },
        "id": "sLHO6BNL1rPV",
        "outputId": "625510ea-55f6-4fa6-e53d-570e7eebd2df"
      },
      "source": [
        "import tensorflow as tf\n",
        "from tensorflow.keras.optimizers import SGD\n",
        "from tensorflow.keras.preprocessing.image import ImageDataGenerator\n",
        "from tensorflow.keras.applications import VGG16\n",
        "from tensorflow.keras import layers\n",
        "from tensorflow.keras import Model\n",
        "from tensorflow.keras.layers import Input\n",
        "\n",
        "Initial_Model = VGG16(weights='imagenet', include_top=False, input_tensor=Input(shape=(224, 224, 3)))\n",
        "\n",
        "for layer in Initial_Model.layers:\n",
        "  layer.trainable = False\n",
        "\n",
        "Initial_Model.summary()"
      ],
      "execution_count": null,
      "outputs": [
        {
          "output_type": "stream",
          "text": [
            "Downloading data from https://storage.googleapis.com/tensorflow/keras-applications/vgg16/vgg16_weights_tf_dim_ordering_tf_kernels_notop.h5\n",
            "58892288/58889256 [==============================] - 1s 0us/step\n",
            "Model: \"vgg16\"\n",
            "_________________________________________________________________\n",
            "Layer (type)                 Output Shape              Param #   \n",
            "=================================================================\n",
            "input_1 (InputLayer)         [(None, 224, 224, 3)]     0         \n",
            "_________________________________________________________________\n",
            "block1_conv1 (Conv2D)        (None, 224, 224, 64)      1792      \n",
            "_________________________________________________________________\n",
            "block1_conv2 (Conv2D)        (None, 224, 224, 64)      36928     \n",
            "_________________________________________________________________\n",
            "block1_pool (MaxPooling2D)   (None, 112, 112, 64)      0         \n",
            "_________________________________________________________________\n",
            "block2_conv1 (Conv2D)        (None, 112, 112, 128)     73856     \n",
            "_________________________________________________________________\n",
            "block2_conv2 (Conv2D)        (None, 112, 112, 128)     147584    \n",
            "_________________________________________________________________\n",
            "block2_pool (MaxPooling2D)   (None, 56, 56, 128)       0         \n",
            "_________________________________________________________________\n",
            "block3_conv1 (Conv2D)        (None, 56, 56, 256)       295168    \n",
            "_________________________________________________________________\n",
            "block3_conv2 (Conv2D)        (None, 56, 56, 256)       590080    \n",
            "_________________________________________________________________\n",
            "block3_conv3 (Conv2D)        (None, 56, 56, 256)       590080    \n",
            "_________________________________________________________________\n",
            "block3_pool (MaxPooling2D)   (None, 28, 28, 256)       0         \n",
            "_________________________________________________________________\n",
            "block4_conv1 (Conv2D)        (None, 28, 28, 512)       1180160   \n",
            "_________________________________________________________________\n",
            "block4_conv2 (Conv2D)        (None, 28, 28, 512)       2359808   \n",
            "_________________________________________________________________\n",
            "block4_conv3 (Conv2D)        (None, 28, 28, 512)       2359808   \n",
            "_________________________________________________________________\n",
            "block4_pool (MaxPooling2D)   (None, 14, 14, 512)       0         \n",
            "_________________________________________________________________\n",
            "block5_conv1 (Conv2D)        (None, 14, 14, 512)       2359808   \n",
            "_________________________________________________________________\n",
            "block5_conv2 (Conv2D)        (None, 14, 14, 512)       2359808   \n",
            "_________________________________________________________________\n",
            "block5_conv3 (Conv2D)        (None, 14, 14, 512)       2359808   \n",
            "_________________________________________________________________\n",
            "block5_pool (MaxPooling2D)   (None, 7, 7, 512)         0         \n",
            "=================================================================\n",
            "Total params: 14,714,688\n",
            "Trainable params: 0\n",
            "Non-trainable params: 14,714,688\n",
            "_________________________________________________________________\n"
          ],
          "name": "stdout"
        }
      ]
    },
    {
      "cell_type": "code",
      "metadata": {
        "id": "OZbuMIh91-wo",
        "colab": {
          "base_uri": "https://localhost:8080/"
        },
        "outputId": "0154c279-ceeb-4be9-e261-b7239c10c7a5"
      },
      "source": [
        "x = Initial_Model.output\n",
        "x = layers.Flatten()(x)\n",
        "x = layers.Dense(512, activation='relu')(x)\n",
        "#x = layers.Dense(512, activation='relu')(x)\n",
        "x = layers.Dropout(0.5)(x)\n",
        "x = layers. Dense (4, activation='softmax')(x)\n",
        "\n",
        "model = Model(Initial_Model.input, x)\n",
        "model.summary()\n",
        "#model.compile(optimizer = SGD(learning_rate=0.001), loss='categorical_crossentropy', metrics = ['accuracy'])"
      ],
      "execution_count": null,
      "outputs": [
        {
          "output_type": "stream",
          "text": [
            "Model: \"model\"\n",
            "_________________________________________________________________\n",
            "Layer (type)                 Output Shape              Param #   \n",
            "=================================================================\n",
            "input_1 (InputLayer)         [(None, 224, 224, 3)]     0         \n",
            "_________________________________________________________________\n",
            "block1_conv1 (Conv2D)        (None, 224, 224, 64)      1792      \n",
            "_________________________________________________________________\n",
            "block1_conv2 (Conv2D)        (None, 224, 224, 64)      36928     \n",
            "_________________________________________________________________\n",
            "block1_pool (MaxPooling2D)   (None, 112, 112, 64)      0         \n",
            "_________________________________________________________________\n",
            "block2_conv1 (Conv2D)        (None, 112, 112, 128)     73856     \n",
            "_________________________________________________________________\n",
            "block2_conv2 (Conv2D)        (None, 112, 112, 128)     147584    \n",
            "_________________________________________________________________\n",
            "block2_pool (MaxPooling2D)   (None, 56, 56, 128)       0         \n",
            "_________________________________________________________________\n",
            "block3_conv1 (Conv2D)        (None, 56, 56, 256)       295168    \n",
            "_________________________________________________________________\n",
            "block3_conv2 (Conv2D)        (None, 56, 56, 256)       590080    \n",
            "_________________________________________________________________\n",
            "block3_conv3 (Conv2D)        (None, 56, 56, 256)       590080    \n",
            "_________________________________________________________________\n",
            "block3_pool (MaxPooling2D)   (None, 28, 28, 256)       0         \n",
            "_________________________________________________________________\n",
            "block4_conv1 (Conv2D)        (None, 28, 28, 512)       1180160   \n",
            "_________________________________________________________________\n",
            "block4_conv2 (Conv2D)        (None, 28, 28, 512)       2359808   \n",
            "_________________________________________________________________\n",
            "block4_conv3 (Conv2D)        (None, 28, 28, 512)       2359808   \n",
            "_________________________________________________________________\n",
            "block4_pool (MaxPooling2D)   (None, 14, 14, 512)       0         \n",
            "_________________________________________________________________\n",
            "block5_conv1 (Conv2D)        (None, 14, 14, 512)       2359808   \n",
            "_________________________________________________________________\n",
            "block5_conv2 (Conv2D)        (None, 14, 14, 512)       2359808   \n",
            "_________________________________________________________________\n",
            "block5_conv3 (Conv2D)        (None, 14, 14, 512)       2359808   \n",
            "_________________________________________________________________\n",
            "block5_pool (MaxPooling2D)   (None, 7, 7, 512)         0         \n",
            "_________________________________________________________________\n",
            "flatten_1 (Flatten)          (None, 25088)             0         \n",
            "_________________________________________________________________\n",
            "dense_2 (Dense)              (None, 512)               12845568  \n",
            "_________________________________________________________________\n",
            "dropout_1 (Dropout)          (None, 512)               0         \n",
            "_________________________________________________________________\n",
            "dense_3 (Dense)              (None, 4)                 2052      \n",
            "=================================================================\n",
            "Total params: 27,562,308\n",
            "Trainable params: 12,847,620\n",
            "Non-trainable params: 14,714,688\n",
            "_________________________________________________________________\n"
          ],
          "name": "stdout"
        }
      ]
    },
    {
      "cell_type": "code",
      "metadata": {
        "colab": {
          "base_uri": "https://localhost:8080/"
        },
        "id": "SZOg0Yof2DZ1",
        "outputId": "337d40b3-bb3c-4971-892e-935d737480e2"
      },
      "source": [
        "TRAINING_DIR = '/content/drive/MyDrive/Natural Disaster Dataset/Training'\n",
        "train_datagen = ImageDataGenerator(\n",
        "    rescale=1./255.,\n",
        "\t  rotation_range=30,\n",
        "\t  zoom_range=0.15,\n",
        "\t  width_shift_range=0.2,\n",
        "  \theight_shift_range=0.2,\n",
        "  \tshear_range=0.15,\n",
        "    horizontal_flip=True,\n",
        "    fill_mode='nearest')\n",
        "\n",
        "train_generator = train_datagen.flow_from_directory(\n",
        "    TRAINING_DIR,\n",
        "    batch_size=64,\n",
        "    class_mode='categorical',\n",
        "    target_size=(224, 224)\n",
        ")\n",
        "\n",
        "VALIDATION_DIR = '/content/drive/MyDrive/Natural Disaster Dataset/Testing'\n",
        "validation_datagen = ImageDataGenerator(rescale= 1./255.)\n",
        "validation_generator = validation_datagen.flow_from_directory(\n",
        "    VALIDATION_DIR,\n",
        "    batch_size=64,\n",
        "    class_mode='categorical',\n",
        "    target_size=(224, 224)\n",
        ")\n"
      ],
      "execution_count": null,
      "outputs": [
        {
          "output_type": "stream",
          "text": [
            "Found 2581 images belonging to 4 classes.\n",
            "Found 991 images belonging to 4 classes.\n"
          ],
          "name": "stdout"
        }
      ]
    },
    {
      "cell_type": "code",
      "metadata": {
        "colab": {
          "base_uri": "https://localhost:8080/"
        },
        "id": "97UWvCky2JNP",
        "outputId": "5ad0c78d-4634-4709-89a8-6e7871b1a343"
      },
      "source": [
        "history = model.fit_generator(train_generator,\n",
        "                              epochs=100,\n",
        "                              verbose=1,\n",
        "                              validation_data=validation_generator)"
      ],
      "execution_count": null,
      "outputs": [
        {
          "output_type": "stream",
          "text": [
            "/usr/local/lib/python3.7/dist-packages/tensorflow/python/keras/engine/training.py:1940: UserWarning: `Model.fit_generator` is deprecated and will be removed in a future version. Please use `Model.fit`, which supports generators.\n",
            "  warnings.warn('`Model.fit_generator` is deprecated and '\n"
          ],
          "name": "stderr"
        },
        {
          "output_type": "stream",
          "text": [
            "Epoch 1/100\n",
            "41/41 [==============================] - 1837s 44s/step - loss: 1.2483 - accuracy: 0.4463 - val_loss: 0.9393 - val_accuracy: 0.6811\n",
            "Epoch 2/100\n",
            "41/41 [==============================] - 105s 3s/step - loss: 0.9154 - accuracy: 0.6548 - val_loss: 0.8508 - val_accuracy: 0.6539\n",
            "Epoch 3/100\n",
            "41/41 [==============================] - 105s 3s/step - loss: 0.7901 - accuracy: 0.7071 - val_loss: 0.7211 - val_accuracy: 0.7760\n",
            "Epoch 4/100\n",
            "41/41 [==============================] - 104s 3s/step - loss: 0.7300 - accuracy: 0.7261 - val_loss: 0.7205 - val_accuracy: 0.7437\n",
            "Epoch 5/100\n",
            "41/41 [==============================] - 104s 3s/step - loss: 0.6659 - accuracy: 0.7555 - val_loss: 0.6768 - val_accuracy: 0.7598\n",
            "Epoch 6/100\n",
            "41/41 [==============================] - 104s 3s/step - loss: 0.6101 - accuracy: 0.7881 - val_loss: 0.6281 - val_accuracy: 0.7992\n",
            "Epoch 7/100\n",
            "41/41 [==============================] - 105s 3s/step - loss: 0.6165 - accuracy: 0.7830 - val_loss: 0.6231 - val_accuracy: 0.7982\n",
            "Epoch 8/100\n",
            "41/41 [==============================] - 104s 3s/step - loss: 0.5663 - accuracy: 0.8016 - val_loss: 0.5597 - val_accuracy: 0.8083\n",
            "Epoch 9/100\n",
            "41/41 [==============================] - 104s 3s/step - loss: 0.5429 - accuracy: 0.8113 - val_loss: 0.5432 - val_accuracy: 0.8133\n",
            "Epoch 10/100\n",
            "41/41 [==============================] - 104s 3s/step - loss: 0.5219 - accuracy: 0.8156 - val_loss: 0.5299 - val_accuracy: 0.8184\n",
            "Epoch 11/100\n",
            "41/41 [==============================] - 104s 3s/step - loss: 0.5111 - accuracy: 0.8198 - val_loss: 0.5178 - val_accuracy: 0.8254\n",
            "Epoch 12/100\n",
            "41/41 [==============================] - 104s 3s/step - loss: 0.5046 - accuracy: 0.8202 - val_loss: 0.5069 - val_accuracy: 0.8305\n",
            "Epoch 13/100\n",
            "41/41 [==============================] - 104s 3s/step - loss: 0.4991 - accuracy: 0.8253 - val_loss: 0.4893 - val_accuracy: 0.8315\n",
            "Epoch 14/100\n",
            "41/41 [==============================] - 104s 3s/step - loss: 0.4868 - accuracy: 0.8303 - val_loss: 0.5102 - val_accuracy: 0.8285\n",
            "Epoch 15/100\n",
            "41/41 [==============================] - 104s 3s/step - loss: 0.4653 - accuracy: 0.8365 - val_loss: 0.5374 - val_accuracy: 0.8194\n",
            "Epoch 16/100\n",
            "41/41 [==============================] - 103s 3s/step - loss: 0.4449 - accuracy: 0.8446 - val_loss: 0.4658 - val_accuracy: 0.8396\n",
            "Epoch 17/100\n",
            "41/41 [==============================] - 103s 3s/step - loss: 0.4418 - accuracy: 0.8516 - val_loss: 0.4834 - val_accuracy: 0.8335\n",
            "Epoch 18/100\n",
            "41/41 [==============================] - 103s 3s/step - loss: 0.4424 - accuracy: 0.8477 - val_loss: 0.4608 - val_accuracy: 0.8476\n",
            "Epoch 19/100\n",
            "41/41 [==============================] - 103s 3s/step - loss: 0.4237 - accuracy: 0.8590 - val_loss: 0.4816 - val_accuracy: 0.8345\n",
            "Epoch 20/100\n",
            "41/41 [==============================] - 103s 3s/step - loss: 0.4206 - accuracy: 0.8636 - val_loss: 0.4742 - val_accuracy: 0.8365\n",
            "Epoch 21/100\n",
            "41/41 [==============================] - 104s 3s/step - loss: 0.4297 - accuracy: 0.8497 - val_loss: 0.4748 - val_accuracy: 0.8416\n",
            "Epoch 22/100\n",
            "41/41 [==============================] - 105s 3s/step - loss: 0.4166 - accuracy: 0.8617 - val_loss: 0.4414 - val_accuracy: 0.8517\n",
            "Epoch 23/100\n",
            "41/41 [==============================] - 103s 3s/step - loss: 0.4077 - accuracy: 0.8621 - val_loss: 0.4762 - val_accuracy: 0.8466\n",
            "Epoch 24/100\n",
            "41/41 [==============================] - 103s 3s/step - loss: 0.4144 - accuracy: 0.8574 - val_loss: 0.4245 - val_accuracy: 0.8547\n",
            "Epoch 25/100\n",
            "41/41 [==============================] - 103s 3s/step - loss: 0.3930 - accuracy: 0.8690 - val_loss: 0.4207 - val_accuracy: 0.8567\n",
            "Epoch 26/100\n",
            "41/41 [==============================] - 106s 3s/step - loss: 0.3921 - accuracy: 0.8656 - val_loss: 0.4473 - val_accuracy: 0.8466\n",
            "Epoch 27/100\n",
            "41/41 [==============================] - 104s 3s/step - loss: 0.3941 - accuracy: 0.8632 - val_loss: 0.4472 - val_accuracy: 0.8486\n",
            "Epoch 28/100\n",
            "41/41 [==============================] - 104s 3s/step - loss: 0.3932 - accuracy: 0.8690 - val_loss: 0.4153 - val_accuracy: 0.8597\n",
            "Epoch 29/100\n",
            "41/41 [==============================] - 103s 3s/step - loss: 0.3918 - accuracy: 0.8648 - val_loss: 0.4216 - val_accuracy: 0.8587\n",
            "Epoch 30/100\n",
            "41/41 [==============================] - 103s 3s/step - loss: 0.3723 - accuracy: 0.8721 - val_loss: 0.4270 - val_accuracy: 0.8547\n",
            "Epoch 31/100\n",
            "41/41 [==============================] - 103s 3s/step - loss: 0.3764 - accuracy: 0.8714 - val_loss: 0.4111 - val_accuracy: 0.8628\n",
            "Epoch 32/100\n",
            "41/41 [==============================] - 103s 3s/step - loss: 0.3735 - accuracy: 0.8780 - val_loss: 0.3907 - val_accuracy: 0.8688\n",
            "Epoch 33/100\n",
            "41/41 [==============================] - 103s 2s/step - loss: 0.3700 - accuracy: 0.8764 - val_loss: 0.4112 - val_accuracy: 0.8607\n",
            "Epoch 34/100\n",
            "41/41 [==============================] - 103s 3s/step - loss: 0.3509 - accuracy: 0.8803 - val_loss: 0.4078 - val_accuracy: 0.8618\n",
            "Epoch 35/100\n",
            "41/41 [==============================] - 103s 3s/step - loss: 0.3560 - accuracy: 0.8725 - val_loss: 0.3954 - val_accuracy: 0.8688\n",
            "Epoch 36/100\n",
            "41/41 [==============================] - 103s 3s/step - loss: 0.3588 - accuracy: 0.8768 - val_loss: 0.4081 - val_accuracy: 0.8607\n",
            "Epoch 37/100\n",
            "41/41 [==============================] - 103s 3s/step - loss: 0.3388 - accuracy: 0.8826 - val_loss: 0.4260 - val_accuracy: 0.8496\n",
            "Epoch 38/100\n",
            "41/41 [==============================] - 103s 3s/step - loss: 0.3540 - accuracy: 0.8822 - val_loss: 0.3668 - val_accuracy: 0.8759\n",
            "Epoch 39/100\n",
            "41/41 [==============================] - 103s 3s/step - loss: 0.3342 - accuracy: 0.8923 - val_loss: 0.3919 - val_accuracy: 0.8638\n",
            "Epoch 40/100\n",
            "41/41 [==============================] - 103s 3s/step - loss: 0.3391 - accuracy: 0.8826 - val_loss: 0.3929 - val_accuracy: 0.8688\n",
            "Epoch 41/100\n",
            "41/41 [==============================] - 103s 3s/step - loss: 0.3300 - accuracy: 0.8907 - val_loss: 0.3836 - val_accuracy: 0.8739\n",
            "Epoch 42/100\n",
            "41/41 [==============================] - 103s 2s/step - loss: 0.3327 - accuracy: 0.8884 - val_loss: 0.3936 - val_accuracy: 0.8607\n",
            "Epoch 43/100\n",
            "41/41 [==============================] - 103s 3s/step - loss: 0.3383 - accuracy: 0.8830 - val_loss: 0.3902 - val_accuracy: 0.8718\n",
            "Epoch 44/100\n",
            "41/41 [==============================] - 103s 3s/step - loss: 0.3410 - accuracy: 0.8838 - val_loss: 0.3775 - val_accuracy: 0.8769\n",
            "Epoch 45/100\n",
            "41/41 [==============================] - 103s 3s/step - loss: 0.3292 - accuracy: 0.8873 - val_loss: 0.3717 - val_accuracy: 0.8749\n",
            "Epoch 46/100\n",
            "41/41 [==============================] - 103s 3s/step - loss: 0.3380 - accuracy: 0.8814 - val_loss: 0.3652 - val_accuracy: 0.8708\n",
            "Epoch 47/100\n",
            "41/41 [==============================] - 103s 3s/step - loss: 0.3200 - accuracy: 0.8923 - val_loss: 0.3658 - val_accuracy: 0.8799\n",
            "Epoch 48/100\n",
            "41/41 [==============================] - 103s 3s/step - loss: 0.3235 - accuracy: 0.8919 - val_loss: 0.4001 - val_accuracy: 0.8607\n",
            "Epoch 49/100\n",
            "41/41 [==============================] - 103s 3s/step - loss: 0.3062 - accuracy: 0.9000 - val_loss: 0.3580 - val_accuracy: 0.8779\n",
            "Epoch 50/100\n",
            "41/41 [==============================] - 103s 3s/step - loss: 0.3094 - accuracy: 0.8954 - val_loss: 0.3519 - val_accuracy: 0.8789\n",
            "Epoch 51/100\n",
            "41/41 [==============================] - 102s 3s/step - loss: 0.2997 - accuracy: 0.9016 - val_loss: 0.3603 - val_accuracy: 0.8829\n",
            "Epoch 52/100\n",
            "41/41 [==============================] - 103s 3s/step - loss: 0.3046 - accuracy: 0.8927 - val_loss: 0.3693 - val_accuracy: 0.8769\n",
            "Epoch 53/100\n",
            "41/41 [==============================] - 102s 2s/step - loss: 0.3049 - accuracy: 0.8973 - val_loss: 0.3576 - val_accuracy: 0.8809\n",
            "Epoch 54/100\n",
            "41/41 [==============================] - 104s 3s/step - loss: 0.3163 - accuracy: 0.8888 - val_loss: 0.3680 - val_accuracy: 0.8779\n",
            "Epoch 55/100\n",
            "41/41 [==============================] - 104s 3s/step - loss: 0.3006 - accuracy: 0.8985 - val_loss: 0.3619 - val_accuracy: 0.8799\n",
            "Epoch 56/100\n",
            "41/41 [==============================] - 103s 3s/step - loss: 0.3047 - accuracy: 0.8942 - val_loss: 0.3637 - val_accuracy: 0.8809\n",
            "Epoch 57/100\n",
            "41/41 [==============================] - 103s 3s/step - loss: 0.2975 - accuracy: 0.9028 - val_loss: 0.3550 - val_accuracy: 0.8890\n",
            "Epoch 58/100\n",
            "41/41 [==============================] - 103s 3s/step - loss: 0.3031 - accuracy: 0.9004 - val_loss: 0.3791 - val_accuracy: 0.8718\n",
            "Epoch 59/100\n",
            "41/41 [==============================] - 104s 3s/step - loss: 0.2856 - accuracy: 0.9074 - val_loss: 0.3791 - val_accuracy: 0.8729\n",
            "Epoch 60/100\n",
            "41/41 [==============================] - 103s 3s/step - loss: 0.3005 - accuracy: 0.8923 - val_loss: 0.3443 - val_accuracy: 0.8840\n",
            "Epoch 61/100\n",
            "41/41 [==============================] - 103s 3s/step - loss: 0.3033 - accuracy: 0.8969 - val_loss: 0.3386 - val_accuracy: 0.8870\n",
            "Epoch 62/100\n",
            "41/41 [==============================] - 103s 3s/step - loss: 0.2948 - accuracy: 0.9028 - val_loss: 0.3290 - val_accuracy: 0.8870\n",
            "Epoch 63/100\n",
            "41/41 [==============================] - 103s 3s/step - loss: 0.2877 - accuracy: 0.9043 - val_loss: 0.3508 - val_accuracy: 0.8850\n",
            "Epoch 64/100\n",
            "41/41 [==============================] - 103s 3s/step - loss: 0.3029 - accuracy: 0.8997 - val_loss: 0.3606 - val_accuracy: 0.8759\n",
            "Epoch 65/100\n",
            "41/41 [==============================] - 103s 3s/step - loss: 0.2876 - accuracy: 0.9043 - val_loss: 0.3478 - val_accuracy: 0.8860\n",
            "Epoch 66/100\n",
            "41/41 [==============================] - 103s 3s/step - loss: 0.2939 - accuracy: 0.9059 - val_loss: 0.3593 - val_accuracy: 0.8809\n",
            "Epoch 67/100\n",
            "41/41 [==============================] - 103s 3s/step - loss: 0.2912 - accuracy: 0.9066 - val_loss: 0.3391 - val_accuracy: 0.8850\n",
            "Epoch 68/100\n",
            "41/41 [==============================] - 103s 3s/step - loss: 0.2902 - accuracy: 0.9078 - val_loss: 0.3325 - val_accuracy: 0.8880\n",
            "Epoch 69/100\n",
            "41/41 [==============================] - 103s 2s/step - loss: 0.2896 - accuracy: 0.9062 - val_loss: 0.3538 - val_accuracy: 0.8819\n",
            "Epoch 70/100\n",
            "41/41 [==============================] - 103s 3s/step - loss: 0.2803 - accuracy: 0.9047 - val_loss: 0.3424 - val_accuracy: 0.8860\n",
            "Epoch 71/100\n",
            "41/41 [==============================] - 104s 3s/step - loss: 0.2792 - accuracy: 0.9039 - val_loss: 0.3240 - val_accuracy: 0.8890\n",
            "Epoch 72/100\n",
            "41/41 [==============================] - 104s 3s/step - loss: 0.2816 - accuracy: 0.9074 - val_loss: 0.3231 - val_accuracy: 0.8900\n",
            "Epoch 73/100\n",
            "41/41 [==============================] - 103s 3s/step - loss: 0.2766 - accuracy: 0.9082 - val_loss: 0.3380 - val_accuracy: 0.8880\n",
            "Epoch 74/100\n",
            "41/41 [==============================] - 103s 3s/step - loss: 0.2831 - accuracy: 0.9090 - val_loss: 0.3360 - val_accuracy: 0.8880\n",
            "Epoch 75/100\n",
            "41/41 [==============================] - 103s 3s/step - loss: 0.2818 - accuracy: 0.9097 - val_loss: 0.3433 - val_accuracy: 0.8860\n",
            "Epoch 76/100\n",
            "41/41 [==============================] - 103s 3s/step - loss: 0.2751 - accuracy: 0.9047 - val_loss: 0.3248 - val_accuracy: 0.8920\n",
            "Epoch 77/100\n",
            "41/41 [==============================] - 103s 3s/step - loss: 0.2707 - accuracy: 0.9047 - val_loss: 0.3170 - val_accuracy: 0.8900\n",
            "Epoch 78/100\n",
            "41/41 [==============================] - 104s 3s/step - loss: 0.2806 - accuracy: 0.9117 - val_loss: 0.3417 - val_accuracy: 0.8829\n",
            "Epoch 79/100\n",
            "41/41 [==============================] - 104s 3s/step - loss: 0.2689 - accuracy: 0.9101 - val_loss: 0.3367 - val_accuracy: 0.8860\n",
            "Epoch 80/100\n",
            "41/41 [==============================] - 103s 3s/step - loss: 0.2730 - accuracy: 0.9082 - val_loss: 0.3192 - val_accuracy: 0.8930\n",
            "Epoch 81/100\n",
            "41/41 [==============================] - 103s 3s/step - loss: 0.2684 - accuracy: 0.9074 - val_loss: 0.3295 - val_accuracy: 0.8870\n",
            "Epoch 82/100\n",
            "41/41 [==============================] - 103s 3s/step - loss: 0.2615 - accuracy: 0.9144 - val_loss: 0.3285 - val_accuracy: 0.8880\n",
            "Epoch 83/100\n",
            "41/41 [==============================] - 103s 3s/step - loss: 0.2730 - accuracy: 0.9101 - val_loss: 0.3184 - val_accuracy: 0.8920\n",
            "Epoch 84/100\n",
            "41/41 [==============================] - 103s 3s/step - loss: 0.2629 - accuracy: 0.9159 - val_loss: 0.3387 - val_accuracy: 0.8870\n",
            "Epoch 85/100\n",
            "41/41 [==============================] - 103s 3s/step - loss: 0.2758 - accuracy: 0.9062 - val_loss: 0.3202 - val_accuracy: 0.8920\n",
            "Epoch 86/100\n",
            "41/41 [==============================] - 103s 3s/step - loss: 0.2696 - accuracy: 0.9016 - val_loss: 0.3330 - val_accuracy: 0.8900\n",
            "Epoch 87/100\n",
            "41/41 [==============================] - 103s 3s/step - loss: 0.2615 - accuracy: 0.9078 - val_loss: 0.3184 - val_accuracy: 0.8900\n",
            "Epoch 88/100\n",
            "41/41 [==============================] - 103s 3s/step - loss: 0.2649 - accuracy: 0.9074 - val_loss: 0.3098 - val_accuracy: 0.8951\n",
            "Epoch 89/100\n",
            "41/41 [==============================] - 103s 3s/step - loss: 0.2616 - accuracy: 0.9101 - val_loss: 0.3056 - val_accuracy: 0.8991\n",
            "Epoch 90/100\n",
            "41/41 [==============================] - 103s 3s/step - loss: 0.2546 - accuracy: 0.9124 - val_loss: 0.3057 - val_accuracy: 0.8971\n",
            "Epoch 91/100\n",
            "41/41 [==============================] - 103s 3s/step - loss: 0.2601 - accuracy: 0.9109 - val_loss: 0.3122 - val_accuracy: 0.8940\n",
            "Epoch 92/100\n",
            "41/41 [==============================] - 103s 3s/step - loss: 0.2598 - accuracy: 0.9148 - val_loss: 0.3152 - val_accuracy: 0.8951\n",
            "Epoch 93/100\n",
            "41/41 [==============================] - 103s 3s/step - loss: 0.2628 - accuracy: 0.9097 - val_loss: 0.3212 - val_accuracy: 0.8930\n",
            "Epoch 94/100\n",
            "41/41 [==============================] - 103s 3s/step - loss: 0.2700 - accuracy: 0.9059 - val_loss: 0.3125 - val_accuracy: 0.8981\n",
            "Epoch 95/100\n",
            "41/41 [==============================] - 103s 3s/step - loss: 0.2600 - accuracy: 0.9136 - val_loss: 0.3142 - val_accuracy: 0.8961\n",
            "Epoch 96/100\n",
            "41/41 [==============================] - 103s 3s/step - loss: 0.2359 - accuracy: 0.9210 - val_loss: 0.3223 - val_accuracy: 0.8900\n",
            "Epoch 97/100\n",
            "41/41 [==============================] - 103s 3s/step - loss: 0.2577 - accuracy: 0.9167 - val_loss: 0.3186 - val_accuracy: 0.8910\n",
            "Epoch 98/100\n",
            "41/41 [==============================] - 103s 3s/step - loss: 0.2538 - accuracy: 0.9148 - val_loss: 0.3121 - val_accuracy: 0.8940\n",
            "Epoch 99/100\n",
            "41/41 [==============================] - 103s 3s/step - loss: 0.2453 - accuracy: 0.9202 - val_loss: 0.3022 - val_accuracy: 0.8961\n",
            "Epoch 100/100\n",
            "41/41 [==============================] - 103s 3s/step - loss: 0.2454 - accuracy: 0.9148 - val_loss: 0.3144 - val_accuracy: 0.8890\n"
          ],
          "name": "stdout"
        }
      ]
    },
    {
      "cell_type": "code",
      "metadata": {
        "colab": {
          "resources": {
            "http://localhost:8080/nbextensions/google.colab/files.js": {
              "data": "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",
              "ok": true,
              "headers": [
                [
                  "content-type",
                  "application/javascript"
                ]
              ],
              "status": 200,
              "status_text": ""
            }
          },
          "base_uri": "https://localhost:8080/",
          "height": 106
        },
        "id": "J-yVe8pSbft8",
        "outputId": "ae7b963f-3bf4-45be-f461-831ab129bb9a"
      },
      "source": [
        "import numpy as np\n",
        "from google.colab import files\n",
        "from keras.preprocessing import image\n",
        "uploaded = files.upload()\n",
        "for fn in uploaded.keys():\n",
        "  path=fn\n",
        "  img=image.load_img(path, target_size=(224,224))\n",
        "  x = image.img_to_array(img)\n",
        "  x = np.expand_dims(x, axis=0)\n",
        "\n",
        "  images = np.vstack([x])\n",
        "  classes = model.predict(images, batch_size=8)\n",
        "  print(fn)\n",
        "  print(classes)"
      ],
      "execution_count": null,
      "outputs": [
        {
          "output_type": "display_data",
          "data": {
            "text/html": [
              "\n",
              "     <input type=\"file\" id=\"files-b522fe83-7b39-48b8-abec-b605b23e5b09\" name=\"files[]\" multiple disabled\n",
              "        style=\"border:none\" />\n",
              "     <output id=\"result-b522fe83-7b39-48b8-abec-b605b23e5b09\">\n",
              "      Upload widget is only available when the cell has been executed in the\n",
              "      current browser session. Please rerun this cell to enable.\n",
              "      </output>\n",
              "      <script src=\"/nbextensions/google.colab/files.js\"></script> "
            ],
            "text/plain": [
              "<IPython.core.display.HTML object>"
            ]
          },
          "metadata": {
            "tags": []
          }
        },
        {
          "output_type": "stream",
          "text": [
            "Saving 152.jpg to 152.jpg\n",
            "152.jpg\n",
            "[[6.3958346e-17 1.5056285e-07 9.9999988e-01 8.6284342e-31]]\n"
          ],
          "name": "stdout"
        }
      ]
    },
    {
      "cell_type": "code",
      "metadata": {
        "colab": {
          "base_uri": "https://localhost:8080/",
          "height": 562
        },
        "id": "-EeI9t4McpMI",
        "outputId": "4c9051d1-7825-4ade-edbd-d454dbd39d32"
      },
      "source": [
        "# PLOT LOSS AND ACCURACY\n",
        "%matplotlib inline\n",
        "\n",
        "import matplotlib.image  as mpimg\n",
        "import matplotlib.pyplot as plt\n",
        "\n",
        "#-----------------------------------------------------------\n",
        "# Retrieve a list of list results on training and test data\n",
        "# sets for each training epoch\n",
        "#-----------------------------------------------------------\n",
        "acc=history.history['accuracy']\n",
        "val_acc=history.history['val_accuracy']\n",
        "loss=history.history['loss']\n",
        "val_loss=history.history['val_loss']\n",
        "\n",
        "epochs=range(len(acc)) # Get number of epochs\n",
        "\n",
        "#------------------------------------------------\n",
        "# Plot training and validation accuracy per epoch\n",
        "#------------------------------------------------\n",
        "plt.plot(epochs, acc, 'r', \"Training Accuracy\")\n",
        "plt.plot(epochs, val_acc, 'b', \"Validation Accuracy\")\n",
        "plt.title('Training and validation accuracy')\n",
        "plt.figure()\n",
        "\n",
        "#------------------------------------------------\n",
        "# Plot training and validation loss per epoch\n",
        "#------------------------------------------------\n",
        "plt.plot(epochs, loss, 'r', \"Training Loss\")\n",
        "plt.plot(epochs, val_loss, 'b', \"Validation Loss\")\n",
        "\n",
        "\n",
        "plt.title('Training and validation loss')\n",
        "\n",
        "# Desired output. Charts with training and validation metrics. No crash :)"
      ],
      "execution_count": null,
      "outputs": [
        {
          "output_type": "execute_result",
          "data": {
            "text/plain": [
              "Text(0.5, 1.0, 'Training and validation loss')"
            ]
          },
          "metadata": {
            "tags": []
          },
          "execution_count": 10
        },
        {
          "output_type": "display_data",
          "data": {
            "image/png": "[encoded data removed]",
            "text/plain": [
              "<Figure size 432x288 with 1 Axes>"
            ]
          },
          "metadata": {
            "tags": [],
            "needs_background": "light"
          }
        },
        {
          "output_type": "display_data",
          "data": {
            "image/png": "[encoded data removed]",
            "text/plain": [
              "<Figure size 432x288 with 1 Axes>"
            ]
          },
          "metadata": {
            "tags": [],
            "needs_background": "light"
          }
        }
      ]
    },
    {
      "cell_type": "code",
      "metadata": {
        "colab": {
          "base_uri": "https://localhost:8080/"
        },
        "id": "WdyYM4Uncsuu",
        "outputId": "ee223ed8-231b-4eed-91be-57123a009c1c"
      },
      "source": [
        "tf.keras.models.save_model(\n",
        "  model, '/content/drive/MyDrive/Bangkit/Disaster_Prediction2'\n",
        ")"
      ],
      "execution_count": null,
      "outputs": [
        {
          "output_type": "stream",
          "text": [
            "INFO:tensorflow:Assets written to: /content/drive/MyDrive/Bangkit/Disaster_Prediction2/assets\n"
          ],
          "name": "stdout"
        }
      ]
    },
    {
      "cell_type": "code",
      "metadata": {
        "id": "zfckXx4AdSWr"
      },
      "source": [
        "model.save('/content/drive/MyDrive/Bangkit/classification_model2.h5')\n"
      ],
      "execution_count": null,
      "outputs": []
    }
  ]
}