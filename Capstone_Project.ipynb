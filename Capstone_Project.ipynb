{
  "nbformat": 4,
  "nbformat_minor": 0,
  "metadata": {
    "colab": {
      "name": "Capstone Project ",
      "provenance": []
    },
    "kernelspec": {
      "name": "python3",
      "display_name": "Python 3"
    },
    "language_info": {
      "name": "python"
    },
    "accelerator": "GPU"
  },
  "cells": [
    {
      "cell_type": "code",
      "metadata": {
        "colab": {
          "base_uri": "https://localhost:8080/"
        },
        "id": "HVPuhDkorOxs",
        "outputId": "af9f84ff-1de4-4b81-a088-9f7e3d7280b9"
      },
      "source": [
        "from google.colab import drive\n",
        "drive.mount('/content/drive')"
      ],
      "execution_count": null,
      "outputs": [
        {
          "output_type": "stream",
          "text": [
            "Mounted at /content/drive\n"
          ],
          "name": "stdout"
        }
      ]
    },
    {
      "cell_type": "code",
      "metadata": {
        "id": "k8VhcZtjrojT",
        "colab": {
          "base_uri": "https://localhost:8080/"
        },
        "outputId": "9439ee31-1a1c-4099-a283-bc25fac56b7b"
      },
      "source": [
        "import tensorflow as tf\n",
        "from tensorflow.keras.optimizers import RMSprop\n",
        "from tensorflow.keras.preprocessing.image import ImageDataGenerator\n",
        "\n",
        "model = tf.keras.models.Sequential([\n",
        "    tf.keras.layers.Conv2D(32, (3,3), activation='relu', input_shape=(224, 224, 3)),\n",
        "    tf.keras.layers.MaxPooling2D(2,2),\n",
        "    tf.keras.layers.Conv2D(32, (3,3), activation='relu'),\n",
        "    tf.keras.layers.MaxPooling2D(2,2),\n",
        "    tf.keras.layers.Conv2D(64, (2,2), activation='relu'),\n",
        "    tf.keras.layers.MaxPooling2D(2,2),\n",
        "    tf.keras.layers.Flatten(),\n",
        "    tf.keras.layers.Dense(512, activation='relu'),\n",
        "    tf.keras.layers.Dense(4, activation='softmax')\n",
        "])\n",
        "\n",
        "model.compile(optimizer=RMSprop(lr=0.001), loss='categorical_crossentropy', metrics=['acc'])\n",
        "\n",
        "TRAINING_DIR = '/content/drive/MyDrive/Four Disaster/Training'\n",
        "train_datagen = ImageDataGenerator(\n",
        "    rescale=1./255.,\n",
        "    rotation_range=40,\n",
        "    width_shift_range=0.2,\n",
        "    height_shift_range=0.2,\n",
        "    shear_range=0.2,\n",
        "    zoom_range=0.2,\n",
        "    horizontal_flip=True,\n",
        "    fill_mode='nearest')\n",
        "\n",
        "train_generator = train_datagen.flow_from_directory(\n",
        "    TRAINING_DIR,\n",
        "    batch_size=64,\n",
        "    class_mode='categorical',\n",
        "    target_size=(224, 224)\n",
        ")\n",
        "\n",
        "VALIDATION_DIR = '/content/drive/MyDrive/Four Disaster/Testing'\n",
        "validation_datagen = ImageDataGenerator(rescale= 1./255.)\n",
        "validation_generator = validation_datagen.flow_from_directory(\n",
        "    VALIDATION_DIR,\n",
        "    batch_size=64,\n",
        "    class_mode='categorical',\n",
        "    target_size=(224, 224)\n",
        ")\n"
      ],
      "execution_count": null,
      "outputs": [
        {
          "output_type": "stream",
          "text": [
            "Found 3544 images belonging to 4 classes.\n",
            "Found 891 images belonging to 4 classes.\n"
          ],
          "name": "stdout"
        }
      ]
    },
    {
      "cell_type": "code",
      "metadata": {
        "colab": {
          "base_uri": "https://localhost:8080/"
        },
        "id": "gCNGatKxwIlm",
        "outputId": "6823ee21-987e-4590-f949-ce3511388b4c"
      },
      "source": [
        "history = model.fit_generator(train_generator,\n",
        "                              epochs=20,\n",
        "                              verbose=1,\n",
        "                              validation_data=validation_generator)"
      ],
      "execution_count": null,
      "outputs": [
        {
          "output_type": "stream",
          "text": [
            "/usr/local/lib/python3.7/dist-packages/tensorflow/python/keras/engine/training.py:1844: UserWarning: `Model.fit_generator` is deprecated and will be removed in a future version. Please use `Model.fit`, which supports generators.\n",
            "  warnings.warn('`Model.fit_generator` is deprecated and '\n"
          ],
          "name": "stderr"
        },
        {
          "output_type": "stream",
          "text": [
            "Epoch 1/20\n",
            "56/56 [==============================] - 1435s 25s/step - loss: 4.0302 - acc: 0.3374 - val_loss: 0.9525 - val_acc: 0.5410\n",
            "Epoch 2/20\n",
            "56/56 [==============================] - 152s 3s/step - loss: 1.1437 - acc: 0.5450 - val_loss: 1.0500 - val_acc: 0.5612\n",
            "Epoch 3/20\n",
            "56/56 [==============================] - 149s 3s/step - loss: 0.9250 - acc: 0.6587 - val_loss: 0.6766 - val_acc: 0.7609\n",
            "Epoch 4/20\n",
            "56/56 [==============================] - 148s 3s/step - loss: 0.7584 - acc: 0.6941 - val_loss: 1.2241 - val_acc: 0.5690\n",
            "Epoch 5/20\n",
            "56/56 [==============================] - 149s 3s/step - loss: 0.8000 - acc: 0.7070 - val_loss: 0.9085 - val_acc: 0.6914\n",
            "Epoch 6/20\n",
            "56/56 [==============================] - 151s 3s/step - loss: 0.6787 - acc: 0.7426 - val_loss: 0.6013 - val_acc: 0.7654\n",
            "Epoch 7/20\n",
            "56/56 [==============================] - 147s 3s/step - loss: 0.5780 - acc: 0.7934 - val_loss: 1.1101 - val_acc: 0.6588\n",
            "Epoch 8/20\n",
            "56/56 [==============================] - 151s 3s/step - loss: 0.6091 - acc: 0.7866 - val_loss: 0.8233 - val_acc: 0.6958\n",
            "Epoch 9/20\n",
            "56/56 [==============================] - 151s 3s/step - loss: 0.5458 - acc: 0.7979 - val_loss: 0.5957 - val_acc: 0.7935\n",
            "Epoch 10/20\n",
            "56/56 [==============================] - 150s 3s/step - loss: 0.5263 - acc: 0.8048 - val_loss: 2.1284 - val_acc: 0.5241\n",
            "Epoch 11/20\n",
            "56/56 [==============================] - 151s 3s/step - loss: 0.5167 - acc: 0.8166 - val_loss: 0.6654 - val_acc: 0.7531\n",
            "Epoch 12/20\n",
            "56/56 [==============================] - 149s 3s/step - loss: 0.4628 - acc: 0.8314 - val_loss: 0.6011 - val_acc: 0.7710\n",
            "Epoch 13/20\n",
            "56/56 [==============================] - 149s 3s/step - loss: 0.4485 - acc: 0.8310 - val_loss: 0.4735 - val_acc: 0.8126\n",
            "Epoch 14/20\n",
            "56/56 [==============================] - 149s 3s/step - loss: 0.4399 - acc: 0.8314 - val_loss: 0.5653 - val_acc: 0.7991\n",
            "Epoch 15/20\n",
            "56/56 [==============================] - 147s 3s/step - loss: 0.4788 - acc: 0.8343 - val_loss: 0.6288 - val_acc: 0.7789\n",
            "Epoch 16/20\n",
            "56/56 [==============================] - 148s 3s/step - loss: 0.4137 - acc: 0.8406 - val_loss: 0.4382 - val_acc: 0.8361\n",
            "Epoch 17/20\n",
            "56/56 [==============================] - 147s 3s/step - loss: 0.3914 - acc: 0.8621 - val_loss: 0.4687 - val_acc: 0.8350\n",
            "Epoch 18/20\n",
            "56/56 [==============================] - 146s 3s/step - loss: 0.3794 - acc: 0.8626 - val_loss: 0.7879 - val_acc: 0.7239\n",
            "Epoch 19/20\n",
            "56/56 [==============================] - 147s 3s/step - loss: 0.4366 - acc: 0.8457 - val_loss: 0.5464 - val_acc: 0.8002\n",
            "Epoch 20/20\n",
            "56/56 [==============================] - 148s 3s/step - loss: 0.4095 - acc: 0.8553 - val_loss: 0.6289 - val_acc: 0.7419\n"
          ],
          "name": "stdout"
        }
      ]
    },
    {
      "cell_type": "code",
      "metadata": {
        "id": "XhXm3d-knGEI",
        "colab": {
          "base_uri": "https://localhost:8080/",
          "height": 562
        },
        "outputId": "973f2f3e-0337-463a-9e1a-5f4152490034"
      },
      "source": [
        "# PLOT LOSS AND ACCURACY\n",
        "%matplotlib inline\n",
        "\n",
        "import matplotlib.image  as mpimg\n",
        "import matplotlib.pyplot as plt\n",
        "\n",
        "#-----------------------------------------------------------\n",
        "# Retrieve a list of list results on training and test data\n",
        "# sets for each training epoch\n",
        "#-----------------------------------------------------------\n",
        "acc=history.history['acc']\n",
        "val_acc=history.history['val_acc']\n",
        "loss=history.history['loss']\n",
        "val_loss=history.history['val_loss']\n",
        "\n",
        "epochs=range(len(acc)) # Get number of epochs\n",
        "\n",
        "#------------------------------------------------\n",
        "# Plot training and validation accuracy per epoch\n",
        "#------------------------------------------------\n",
        "plt.plot(epochs, acc, 'r', \"Training Accuracy\")\n",
        "plt.plot(epochs, val_acc, 'b', \"Validation Accuracy\")\n",
        "plt.title('Training and validation accuracy')\n",
        "plt.figure()\n",
        "\n",
        "#------------------------------------------------\n",
        "# Plot training and validation loss per epoch\n",
        "#------------------------------------------------\n",
        "plt.plot(epochs, loss, 'r', \"Training Loss\")\n",
        "plt.plot(epochs, val_loss, 'b', \"Validation Loss\")\n",
        "\n",
        "\n",
        "plt.title('Training and validation loss')\n",
        "\n",
        "# Desired output. Charts with training and validation metrics. No crash :)"
      ],
      "execution_count": null,
      "outputs": [
        {
          "output_type": "execute_result",
          "data": {
            "text/plain": [
              "Text(0.5, 1.0, 'Training and validation loss')"
            ]
          },
          "metadata": {
            "tags": []
          },
          "execution_count": 5
        },
        {
          "output_type": "display_data",
          "data": {
            "image/png": "[encoded data removed]",
            "text/plain": [
              "<Figure size 432x288 with 1 Axes>"
            ]
          },
          "metadata": {
            "tags": [],
            "needs_background": "light"
          }
        },
        {
          "output_type": "display_data",
          "data": {
            "image/png": "[encoded data removed]",
            "text/plain": [
              "<Figure size 432x288 with 1 Axes>"
            ]
          },
          "metadata": {
            "tags": [],
            "needs_background": "light"
          }
        }
      ]
    }
  ]
}