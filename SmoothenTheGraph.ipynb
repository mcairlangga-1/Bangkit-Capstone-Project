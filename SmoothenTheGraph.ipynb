{
  "nbformat": 4,
  "nbformat_minor": 0,
  "metadata": {
    "colab": {
      "name": "SmoothenTheGraph.ipynb",
      "provenance": [],
      "collapsed_sections": [],
      "include_colab_link": true
    },
    "kernelspec": {
      "name": "python3",
      "display_name": "Python 3"
    },
    "language_info": {
      "name": "python"
    },
    "accelerator": "GPU"
  },
  "cells": [
    {
      "cell_type": "markdown",
      "metadata": {
        "id": "view-in-github",
        "colab_type": "text"
      },
      "source": [
        "<a href=\"https://colab.research.google.com/github/safitrisoetam/Bangkit-Capstone-Project/blob/main/SmoothenTheGraph.ipynb\" target=\"_parent\"><img src=\"https://colab.research.google.com/assets/colab-badge.svg\" alt=\"Open In Colab\"/></a>"
      ]
    },
    {
      "cell_type": "code",
      "metadata": {
        "colab": {
          "base_uri": "https://localhost:8080/"
        },
        "id": "upQn5aoY1AZt",
        "outputId": "98ca7f3b-e89f-41cb-9724-044d2cdde32c"
      },
      "source": [
        "from google.colab import drive\n",
        "drive.mount('/content/drive')"
      ],
      "execution_count": null,
      "outputs": [
        {
          "output_type": "stream",
          "text": [
            "Drive already mounted at /content/drive; to attempt to forcibly remount, call drive.mount(\"/content/drive\", force_remount=True).\n"
          ],
          "name": "stdout"
        }
      ]
    },
    {
      "cell_type": "code",
      "metadata": {
        "colab": {
          "base_uri": "https://localhost:8080/"
        },
        "id": "sLHO6BNL1rPV",
        "outputId": "e3fced82-fc2c-48e1-9ef8-40c3d2025726"
      },
      "source": [
        "import tensorflow as tf\n",
        "from tensorflow.keras.optimizers import SGD\n",
        "from tensorflow.keras.preprocessing.image import ImageDataGenerator\n",
        "from tensorflow.keras.applications import VGG16\n",
        "from tensorflow.keras import layers\n",
        "from tensorflow.keras import Model\n",
        "from tensorflow.keras.layers import Input\n",
        "\n",
        "Initial_Model = VGG16(weights='imagenet', include_top=False, input_tensor=Input(shape=(224, 224, 3)))\n",
        "\n",
        "for layer in Initial_Model.layers:\n",
        "  layer.trainable = False\n",
        "\n",
        "Initial_Model.summary()"
      ],
      "execution_count": null,
      "outputs": [
        {
          "output_type": "stream",
          "text": [
            "Downloading data from https://storage.googleapis.com/tensorflow/keras-applications/vgg16/vgg16_weights_tf_dim_ordering_tf_kernels_notop.h5\n",
            "58892288/58889256 [==============================] - 0s 0us/step\n",
            "Model: \"vgg16\"\n",
            "_________________________________________________________________\n",
            "Layer (type)                 Output Shape              Param #   \n",
            "=================================================================\n",
            "input_1 (InputLayer)         [(None, 224, 224, 3)]     0         \n",
            "_________________________________________________________________\n",
            "block1_conv1 (Conv2D)        (None, 224, 224, 64)      1792      \n",
            "_________________________________________________________________\n",
            "block1_conv2 (Conv2D)        (None, 224, 224, 64)      36928     \n",
            "_________________________________________________________________\n",
            "block1_pool (MaxPooling2D)   (None, 112, 112, 64)      0         \n",
            "_________________________________________________________________\n",
            "block2_conv1 (Conv2D)        (None, 112, 112, 128)     73856     \n",
            "_________________________________________________________________\n",
            "block2_conv2 (Conv2D)        (None, 112, 112, 128)     147584    \n",
            "_________________________________________________________________\n",
            "block2_pool (MaxPooling2D)   (None, 56, 56, 128)       0         \n",
            "_________________________________________________________________\n",
            "block3_conv1 (Conv2D)        (None, 56, 56, 256)       295168    \n",
            "_________________________________________________________________\n",
            "block3_conv2 (Conv2D)        (None, 56, 56, 256)       590080    \n",
            "_________________________________________________________________\n",
            "block3_conv3 (Conv2D)        (None, 56, 56, 256)       590080    \n",
            "_________________________________________________________________\n",
            "block3_pool (MaxPooling2D)   (None, 28, 28, 256)       0         \n",
            "_________________________________________________________________\n",
            "block4_conv1 (Conv2D)        (None, 28, 28, 512)       1180160   \n",
            "_________________________________________________________________\n",
            "block4_conv2 (Conv2D)        (None, 28, 28, 512)       2359808   \n",
            "_________________________________________________________________\n",
            "block4_conv3 (Conv2D)        (None, 28, 28, 512)       2359808   \n",
            "_________________________________________________________________\n",
            "block4_pool (MaxPooling2D)   (None, 14, 14, 512)       0         \n",
            "_________________________________________________________________\n",
            "block5_conv1 (Conv2D)        (None, 14, 14, 512)       2359808   \n",
            "_________________________________________________________________\n",
            "block5_conv2 (Conv2D)        (None, 14, 14, 512)       2359808   \n",
            "_________________________________________________________________\n",
            "block5_conv3 (Conv2D)        (None, 14, 14, 512)       2359808   \n",
            "_________________________________________________________________\n",
            "block5_pool (MaxPooling2D)   (None, 7, 7, 512)         0         \n",
            "=================================================================\n",
            "Total params: 14,714,688\n",
            "Trainable params: 0\n",
            "Non-trainable params: 14,714,688\n",
            "_________________________________________________________________\n"
          ],
          "name": "stdout"
        }
      ]
    },
    {
      "cell_type": "code",
      "metadata": {
        "id": "OZbuMIh91-wo"
      },
      "source": [
        "x = Initial_Model.output\n",
        "x = layers.Flatten()(x)\n",
        "x = layers.Dense(512, activation='relu')(x)\n",
        "#x = layers.Dense(512, activation='relu')(x)\n",
        "x = layers.Dropout(0.5)(x)\n",
        "x = layers. Dense (4, activation='softmax')(x)\n",
        "\n",
        "model = Model(Initial_Model.input, x)\n",
        "model.compile(optimizer = SGD(learning_rate=0.001), loss='categorical_crossentropy', metrics = ['accuracy'])"
      ],
      "execution_count": null,
      "outputs": []
    },
    {
      "cell_type": "code",
      "metadata": {
        "colab": {
          "base_uri": "https://localhost:8080/"
        },
        "id": "SZOg0Yof2DZ1",
        "outputId": "0ac6db49-c36c-41ff-a94a-05dcd83663a7"
      },
      "source": [
        "TRAINING_DIR = '/content/drive/MyDrive/Natural Disaster Dataset/Training'\n",
        "train_datagen = ImageDataGenerator(\n",
        "    rescale=1./255.,\n",
        "    rotation_range=30,\n",
        "    width_shift_range=0.2,\n",
        "    height_shift_range=0.2,\n",
        "    shear_range=0.2,\n",
        "    zoom_range=0.2,\n",
        "    horizontal_flip=True,\n",
        "    vertical_flip=True,\n",
        "    fill_mode='nearest',\n",
        ")\n",
        "\n",
        "train_generator = train_datagen.flow_from_directory(\n",
        "    TRAINING_DIR,\n",
        "    batch_size=64,\n",
        "    class_mode='categorical',\n",
        "    shuffle=True,\n",
        "    target_size=(224, 224)\n",
        ")\n",
        "\n",
        "VALIDATION_DIR = '/content/drive/MyDrive/Natural Disaster Dataset/Testing'\n",
        "validation_datagen = ImageDataGenerator(rescale= 1./255.)\n",
        "validation_generator = validation_datagen.flow_from_directory(\n",
        "    VALIDATION_DIR,\n",
        "    batch_size=64,\n",
        "    class_mode='categorical',\n",
        "    shuffle=True,\n",
        "    target_size=(224, 224)\n",
        ")\n"
      ],
      "execution_count": null,
      "outputs": [
        {
          "output_type": "stream",
          "text": [
            "Found 2581 images belonging to 4 classes.\n",
            "Found 991 images belonging to 4 classes.\n"
          ],
          "name": "stdout"
        }
      ]
    },
    {
      "cell_type": "code",
      "metadata": {
        "colab": {
          "base_uri": "https://localhost:8080/"
        },
        "id": "97UWvCky2JNP",
        "outputId": "97c0fee1-c18b-48cb-dadd-665f673456b8"
      },
      "source": [
        "history = model.fit(train_generator,\n",
        "                    steps_per_epoch = 40,\n",
        "                    validation_steps = 15,\n",
        "                    epochs=100,\n",
        "                    verbose=2,\n",
        "                    validation_data=validation_generator)"
      ],
      "execution_count": null,
      "outputs": [
        {
          "output_type": "stream",
          "text": [
            "Epoch 1/100\n",
            "40/40 - 103s - loss: 0.6073 - accuracy: 0.7835 - val_loss: 0.6231 - val_accuracy: 0.7854\n",
            "Epoch 2/100\n",
            "40/40 - 102s - loss: 0.6045 - accuracy: 0.7771 - val_loss: 0.5701 - val_accuracy: 0.8094\n",
            "Epoch 3/100\n",
            "40/40 - 102s - loss: 0.5843 - accuracy: 0.7843 - val_loss: 0.5490 - val_accuracy: 0.8073\n",
            "Epoch 4/100\n",
            "40/40 - 101s - loss: 0.5766 - accuracy: 0.7934 - val_loss: 0.5794 - val_accuracy: 0.8094\n",
            "Epoch 5/100\n",
            "40/40 - 102s - loss: 0.5573 - accuracy: 0.7946 - val_loss: 0.5877 - val_accuracy: 0.7979\n",
            "Epoch 6/100\n",
            "40/40 - 101s - loss: 0.5434 - accuracy: 0.8037 - val_loss: 0.5599 - val_accuracy: 0.8198\n",
            "Epoch 7/100\n",
            "40/40 - 102s - loss: 0.5434 - accuracy: 0.8053 - val_loss: 0.5316 - val_accuracy: 0.8125\n",
            "Epoch 8/100\n",
            "40/40 - 102s - loss: 0.5189 - accuracy: 0.8129 - val_loss: 0.5045 - val_accuracy: 0.8313\n",
            "Epoch 9/100\n",
            "40/40 - 102s - loss: 0.5243 - accuracy: 0.8002 - val_loss: 0.5086 - val_accuracy: 0.8292\n",
            "Epoch 10/100\n",
            "40/40 - 102s - loss: 0.5184 - accuracy: 0.8149 - val_loss: 0.5153 - val_accuracy: 0.8281\n",
            "Epoch 11/100\n",
            "40/40 - 102s - loss: 0.5155 - accuracy: 0.8180 - val_loss: 0.5024 - val_accuracy: 0.8333\n",
            "Epoch 12/100\n",
            "40/40 - 102s - loss: 0.5079 - accuracy: 0.8180 - val_loss: 0.5096 - val_accuracy: 0.8219\n",
            "Epoch 13/100\n",
            "40/40 - 102s - loss: 0.5110 - accuracy: 0.8129 - val_loss: 0.4872 - val_accuracy: 0.8323\n",
            "Epoch 14/100\n",
            "40/40 - 102s - loss: 0.4754 - accuracy: 0.8367 - val_loss: 0.4902 - val_accuracy: 0.8427\n",
            "Epoch 15/100\n",
            "40/40 - 103s - loss: 0.4813 - accuracy: 0.8276 - val_loss: 0.4882 - val_accuracy: 0.8302\n",
            "Epoch 16/100\n",
            "40/40 - 103s - loss: 0.5002 - accuracy: 0.8161 - val_loss: 0.4591 - val_accuracy: 0.8500\n",
            "Epoch 17/100\n",
            "40/40 - 102s - loss: 0.4736 - accuracy: 0.8311 - val_loss: 0.4924 - val_accuracy: 0.8365\n",
            "Epoch 18/100\n",
            "40/40 - 103s - loss: 0.4773 - accuracy: 0.8327 - val_loss: 0.4894 - val_accuracy: 0.8385\n",
            "Epoch 19/100\n",
            "40/40 - 102s - loss: 0.4808 - accuracy: 0.8280 - val_loss: 0.4567 - val_accuracy: 0.8490\n",
            "Epoch 20/100\n",
            "40/40 - 102s - loss: 0.4617 - accuracy: 0.8347 - val_loss: 0.4900 - val_accuracy: 0.8302\n",
            "Epoch 21/100\n",
            "40/40 - 102s - loss: 0.4644 - accuracy: 0.8327 - val_loss: 0.4766 - val_accuracy: 0.8406\n",
            "Epoch 22/100\n",
            "40/40 - 102s - loss: 0.4548 - accuracy: 0.8383 - val_loss: 0.4809 - val_accuracy: 0.8333\n",
            "Epoch 23/100\n",
            "40/40 - 102s - loss: 0.4503 - accuracy: 0.8383 - val_loss: 0.4643 - val_accuracy: 0.8406\n",
            "Epoch 24/100\n",
            "40/40 - 101s - loss: 0.4531 - accuracy: 0.8458 - val_loss: 0.4608 - val_accuracy: 0.8469\n",
            "Epoch 25/100\n",
            "40/40 - 101s - loss: 0.4491 - accuracy: 0.8379 - val_loss: 0.4319 - val_accuracy: 0.8542\n",
            "Epoch 26/100\n",
            "40/40 - 102s - loss: 0.4279 - accuracy: 0.8490 - val_loss: 0.4476 - val_accuracy: 0.8573\n",
            "Epoch 27/100\n",
            "40/40 - 104s - loss: 0.4386 - accuracy: 0.8399 - val_loss: 0.4338 - val_accuracy: 0.8615\n",
            "Epoch 28/100\n",
            "40/40 - 103s - loss: 0.4410 - accuracy: 0.8339 - val_loss: 0.4266 - val_accuracy: 0.8573\n",
            "Epoch 29/100\n",
            "40/40 - 101s - loss: 0.4342 - accuracy: 0.8474 - val_loss: 0.4402 - val_accuracy: 0.8500\n",
            "Epoch 30/100\n",
            "40/40 - 102s - loss: 0.4357 - accuracy: 0.8451 - val_loss: 0.4332 - val_accuracy: 0.8615\n",
            "Epoch 31/100\n",
            "40/40 - 102s - loss: 0.4267 - accuracy: 0.8502 - val_loss: 0.4269 - val_accuracy: 0.8583\n",
            "Epoch 32/100\n",
            "40/40 - 101s - loss: 0.4248 - accuracy: 0.8502 - val_loss: 0.4823 - val_accuracy: 0.8240\n",
            "Epoch 33/100\n",
            "40/40 - 102s - loss: 0.4161 - accuracy: 0.8550 - val_loss: 0.4354 - val_accuracy: 0.8500\n",
            "Epoch 34/100\n",
            "40/40 - 101s - loss: 0.4166 - accuracy: 0.8617 - val_loss: 0.4307 - val_accuracy: 0.8615\n",
            "Epoch 35/100\n",
            "40/40 - 101s - loss: 0.4375 - accuracy: 0.8419 - val_loss: 0.4175 - val_accuracy: 0.8615\n",
            "Epoch 36/100\n",
            "40/40 - 102s - loss: 0.4179 - accuracy: 0.8514 - val_loss: 0.4003 - val_accuracy: 0.8615\n",
            "Epoch 37/100\n",
            "40/40 - 102s - loss: 0.4087 - accuracy: 0.8673 - val_loss: 0.4085 - val_accuracy: 0.8594\n",
            "Epoch 38/100\n",
            "40/40 - 104s - loss: 0.3971 - accuracy: 0.8649 - val_loss: 0.4129 - val_accuracy: 0.8656\n",
            "Epoch 39/100\n",
            "40/40 - 102s - loss: 0.4104 - accuracy: 0.8594 - val_loss: 0.4282 - val_accuracy: 0.8656\n",
            "Epoch 40/100\n",
            "40/40 - 101s - loss: 0.4057 - accuracy: 0.8498 - val_loss: 0.4072 - val_accuracy: 0.8656\n",
            "Epoch 41/100\n",
            "40/40 - 102s - loss: 0.3938 - accuracy: 0.8621 - val_loss: 0.4004 - val_accuracy: 0.8667\n",
            "Epoch 42/100\n",
            "40/40 - 101s - loss: 0.3900 - accuracy: 0.8602 - val_loss: 0.3839 - val_accuracy: 0.8667\n",
            "Epoch 43/100\n",
            "40/40 - 102s - loss: 0.3960 - accuracy: 0.8689 - val_loss: 0.4029 - val_accuracy: 0.8594\n",
            "Epoch 44/100\n",
            "40/40 - 101s - loss: 0.3878 - accuracy: 0.8681 - val_loss: 0.3983 - val_accuracy: 0.8625\n",
            "Epoch 45/100\n",
            "40/40 - 103s - loss: 0.3898 - accuracy: 0.8693 - val_loss: 0.3930 - val_accuracy: 0.8625\n",
            "Epoch 46/100\n",
            "40/40 - 102s - loss: 0.3915 - accuracy: 0.8645 - val_loss: 0.3956 - val_accuracy: 0.8667\n",
            "Epoch 47/100\n",
            "40/40 - 102s - loss: 0.3857 - accuracy: 0.8677 - val_loss: 0.3865 - val_accuracy: 0.8635\n",
            "Epoch 48/100\n",
            "40/40 - 101s - loss: 0.3998 - accuracy: 0.8598 - val_loss: 0.3989 - val_accuracy: 0.8667\n",
            "Epoch 49/100\n",
            "40/40 - 101s - loss: 0.3857 - accuracy: 0.8617 - val_loss: 0.3886 - val_accuracy: 0.8646\n",
            "Epoch 50/100\n",
            "40/40 - 101s - loss: 0.3716 - accuracy: 0.8665 - val_loss: 0.4146 - val_accuracy: 0.8656\n",
            "Epoch 51/100\n",
            "40/40 - 101s - loss: 0.3930 - accuracy: 0.8613 - val_loss: 0.3802 - val_accuracy: 0.8719\n",
            "Epoch 52/100\n",
            "40/40 - 101s - loss: 0.3861 - accuracy: 0.8609 - val_loss: 0.3934 - val_accuracy: 0.8677\n",
            "Epoch 53/100\n",
            "40/40 - 101s - loss: 0.3783 - accuracy: 0.8733 - val_loss: 0.3792 - val_accuracy: 0.8667\n",
            "Epoch 54/100\n",
            "40/40 - 101s - loss: 0.3769 - accuracy: 0.8657 - val_loss: 0.3819 - val_accuracy: 0.8656\n",
            "Epoch 55/100\n",
            "40/40 - 101s - loss: 0.3740 - accuracy: 0.8649 - val_loss: 0.3636 - val_accuracy: 0.8750\n",
            "Epoch 56/100\n",
            "40/40 - 101s - loss: 0.3665 - accuracy: 0.8760 - val_loss: 0.3670 - val_accuracy: 0.8719\n",
            "Epoch 57/100\n",
            "40/40 - 101s - loss: 0.3629 - accuracy: 0.8681 - val_loss: 0.3784 - val_accuracy: 0.8740\n",
            "Epoch 58/100\n",
            "40/40 - 103s - loss: 0.3708 - accuracy: 0.8715 - val_loss: 0.3844 - val_accuracy: 0.8687\n",
            "Epoch 59/100\n",
            "40/40 - 102s - loss: 0.3820 - accuracy: 0.8617 - val_loss: 0.3789 - val_accuracy: 0.8719\n",
            "Epoch 60/100\n",
            "40/40 - 102s - loss: 0.3745 - accuracy: 0.8661 - val_loss: 0.3911 - val_accuracy: 0.8646\n",
            "Epoch 61/100\n",
            "40/40 - 102s - loss: 0.3763 - accuracy: 0.8661 - val_loss: 0.3706 - val_accuracy: 0.8771\n",
            "Epoch 62/100\n",
            "40/40 - 101s - loss: 0.3693 - accuracy: 0.8677 - val_loss: 0.3602 - val_accuracy: 0.8760\n",
            "Epoch 63/100\n",
            "40/40 - 101s - loss: 0.3577 - accuracy: 0.8717 - val_loss: 0.3831 - val_accuracy: 0.8677\n",
            "Epoch 64/100\n",
            "40/40 - 102s - loss: 0.3661 - accuracy: 0.8681 - val_loss: 0.3567 - val_accuracy: 0.8823\n",
            "Epoch 65/100\n",
            "40/40 - 101s - loss: 0.3646 - accuracy: 0.8713 - val_loss: 0.3671 - val_accuracy: 0.8792\n",
            "Epoch 66/100\n",
            "40/40 - 103s - loss: 0.3529 - accuracy: 0.8792 - val_loss: 0.3845 - val_accuracy: 0.8708\n",
            "Epoch 67/100\n",
            "40/40 - 103s - loss: 0.3501 - accuracy: 0.8808 - val_loss: 0.3708 - val_accuracy: 0.8781\n",
            "Epoch 68/100\n",
            "40/40 - 102s - loss: 0.3582 - accuracy: 0.8760 - val_loss: 0.3692 - val_accuracy: 0.8813\n",
            "Epoch 69/100\n",
            "40/40 - 103s - loss: 0.3604 - accuracy: 0.8693 - val_loss: 0.3631 - val_accuracy: 0.8833\n",
            "Epoch 70/100\n",
            "40/40 - 103s - loss: 0.3583 - accuracy: 0.8701 - val_loss: 0.3613 - val_accuracy: 0.8792\n",
            "Epoch 71/100\n",
            "40/40 - 102s - loss: 0.3625 - accuracy: 0.8729 - val_loss: 0.3556 - val_accuracy: 0.8771\n",
            "Epoch 72/100\n",
            "40/40 - 103s - loss: 0.3421 - accuracy: 0.8805 - val_loss: 0.3588 - val_accuracy: 0.8781\n",
            "Epoch 73/100\n",
            "40/40 - 103s - loss: 0.3396 - accuracy: 0.8812 - val_loss: 0.3552 - val_accuracy: 0.8792\n",
            "Epoch 74/100\n",
            "40/40 - 103s - loss: 0.3361 - accuracy: 0.8848 - val_loss: 0.4176 - val_accuracy: 0.8458\n",
            "Epoch 75/100\n",
            "40/40 - 103s - loss: 0.3492 - accuracy: 0.8832 - val_loss: 0.3621 - val_accuracy: 0.8750\n",
            "Epoch 76/100\n",
            "40/40 - 103s - loss: 0.3425 - accuracy: 0.8824 - val_loss: 0.3468 - val_accuracy: 0.8865\n",
            "Epoch 77/100\n",
            "40/40 - 105s - loss: 0.3497 - accuracy: 0.8784 - val_loss: 0.3522 - val_accuracy: 0.8781\n",
            "Epoch 78/100\n",
            "40/40 - 103s - loss: 0.3383 - accuracy: 0.8804 - val_loss: 0.3563 - val_accuracy: 0.8813\n",
            "Epoch 79/100\n",
            "40/40 - 103s - loss: 0.3353 - accuracy: 0.8868 - val_loss: 0.3683 - val_accuracy: 0.8729\n",
            "Epoch 80/100\n",
            "40/40 - 102s - loss: 0.3380 - accuracy: 0.8836 - val_loss: 0.3382 - val_accuracy: 0.8781\n",
            "Epoch 81/100\n",
            "40/40 - 101s - loss: 0.3514 - accuracy: 0.8772 - val_loss: 0.3496 - val_accuracy: 0.8875\n",
            "Epoch 82/100\n",
            "40/40 - 102s - loss: 0.3313 - accuracy: 0.8824 - val_loss: 0.3541 - val_accuracy: 0.8802\n",
            "Epoch 83/100\n",
            "40/40 - 101s - loss: 0.3391 - accuracy: 0.8784 - val_loss: 0.3326 - val_accuracy: 0.8875\n",
            "Epoch 84/100\n",
            "40/40 - 102s - loss: 0.3310 - accuracy: 0.8856 - val_loss: 0.3410 - val_accuracy: 0.8865\n",
            "Epoch 85/100\n",
            "40/40 - 102s - loss: 0.3484 - accuracy: 0.8860 - val_loss: 0.3703 - val_accuracy: 0.8771\n",
            "Epoch 86/100\n",
            "40/40 - 103s - loss: 0.3477 - accuracy: 0.8808 - val_loss: 0.3526 - val_accuracy: 0.8750\n",
            "Epoch 87/100\n",
            "40/40 - 103s - loss: 0.3425 - accuracy: 0.8800 - val_loss: 0.3627 - val_accuracy: 0.8833\n",
            "Epoch 88/100\n",
            "40/40 - 102s - loss: 0.3288 - accuracy: 0.8836 - val_loss: 0.3461 - val_accuracy: 0.8823\n",
            "Epoch 89/100\n",
            "40/40 - 102s - loss: 0.3339 - accuracy: 0.8836 - val_loss: 0.3439 - val_accuracy: 0.8823\n",
            "Epoch 90/100\n",
            "40/40 - 102s - loss: 0.3242 - accuracy: 0.8919 - val_loss: 0.3552 - val_accuracy: 0.8896\n",
            "Epoch 91/100\n",
            "40/40 - 102s - loss: 0.3290 - accuracy: 0.8844 - val_loss: 0.3484 - val_accuracy: 0.8885\n",
            "Epoch 92/100\n",
            "40/40 - 103s - loss: 0.3155 - accuracy: 0.8907 - val_loss: 0.3338 - val_accuracy: 0.8885\n",
            "Epoch 93/100\n",
            "40/40 - 102s - loss: 0.3271 - accuracy: 0.8884 - val_loss: 0.3387 - val_accuracy: 0.8813\n",
            "Epoch 94/100\n",
            "40/40 - 104s - loss: 0.3278 - accuracy: 0.8919 - val_loss: 0.3442 - val_accuracy: 0.8813\n",
            "Epoch 95/100\n",
            "40/40 - 103s - loss: 0.3285 - accuracy: 0.8888 - val_loss: 0.3648 - val_accuracy: 0.8729\n",
            "Epoch 96/100\n",
            "40/40 - 103s - loss: 0.3371 - accuracy: 0.8800 - val_loss: 0.3794 - val_accuracy: 0.8583\n",
            "Epoch 97/100\n",
            "40/40 - 104s - loss: 0.3245 - accuracy: 0.8824 - val_loss: 0.3330 - val_accuracy: 0.8885\n",
            "Epoch 98/100\n",
            "40/40 - 103s - loss: 0.3235 - accuracy: 0.8903 - val_loss: 0.3471 - val_accuracy: 0.8833\n",
            "Epoch 99/100\n",
            "40/40 - 105s - loss: 0.3342 - accuracy: 0.8836 - val_loss: 0.3552 - val_accuracy: 0.8823\n",
            "Epoch 100/100\n",
            "40/40 - 103s - loss: 0.3222 - accuracy: 0.8824 - val_loss: 0.3332 - val_accuracy: 0.8906\n"
          ],
          "name": "stdout"
        }
      ]
    },
    {
      "cell_type": "code",
      "metadata": {
        "id": "J-yVe8pSbft8",
        "colab": {
          "resources": {
            "http://localhost:8080/nbextensions/google.colab/files.js": {
              "data": "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",
              "ok": true,
              "headers": [
                [
                  "content-type",
                  "application/javascript"
                ]
              ],
              "status": 200,
              "status_text": ""
            }
          },
          "base_uri": "https://localhost:8080/",
          "height": 123
        },
        "outputId": "ab45c8c5-3e92-4ba3-d63f-01ead1299969"
      },
      "source": [
        "import numpy as np\n",
        "from google.colab import files\n",
        "from keras.preprocessing import image\n",
        "uploaded = files.upload()\n",
        "for fn in uploaded.keys():\n",
        "  path=fn\n",
        "  img=image.load_img(path, target_size=(224,224))\n",
        "  x = image.img_to_array(img)\n",
        "  x = np.expand_dims(x, axis=0)\n",
        "\n",
        "  images = np.vstack([x])\n",
        "  classes = model.predict(images, batch_size=8)\n",
        "  print(fn)\n",
        "  print(classes)\n",
        "  if classes[0][0]==1:\n",
        "    print('Cyclone')\n",
        "  elif classes[0][1]==1:\n",
        "    print('Earthquake')\n",
        "  elif classes[0][2]==1:\n",
        "    print('Flood')\n",
        "  elif classes[0][3]==1:\n",
        "    print('Wildfire')\n",
        "  else:\n",
        "    print('Could not detect')"
      ],
      "execution_count": null,
      "outputs": [
        {
          "output_type": "display_data",
          "data": {
            "text/html": [
              "\n",
              "     <input type=\"file\" id=\"files-f7ed4c94-3c91-4336-9380-6ee7edfca7c7\" name=\"files[]\" multiple disabled\n",
              "        style=\"border:none\" />\n",
              "     <output id=\"result-f7ed4c94-3c91-4336-9380-6ee7edfca7c7\">\n",
              "      Upload widget is only available when the cell has been executed in the\n",
              "      current browser session. Please rerun this cell to enable.\n",
              "      </output>\n",
              "      <script src=\"/nbextensions/google.colab/files.js\"></script> "
            ],
            "text/plain": [
              "<IPython.core.display.HTML object>"
            ]
          },
          "metadata": {
            "tags": []
          }
        },
        {
          "output_type": "stream",
          "text": [
            "Saving 1.jpg to 1.jpg\n",
            "1.jpg\n",
            "[[6.5549868e-01 8.9201802e-07 3.4450042e-01 3.4383011e-24]]\n",
            "Could not detect\n"
          ],
          "name": "stdout"
        }
      ]
    },
    {
      "cell_type": "code",
      "metadata": {
        "id": "YTiJXOwni2e2"
      },
      "source": [
        " if classes[0][0]>classes[0][1]:\n",
        "    if classes[0][0]>classes[0][2]:\n",
        "          if classes[0][0]>classes[0][3]:\n",
        "            print('Cyclone')\n",
        "    elif classes[0][0]>classes[0][3]:\n",
        "          if classes[0][0]>classes[0][2]:\n",
        "            print('Cyclone')\n",
        "  elif classes[0][0]>classes[0][2]:\n",
        "    if classes[0][0]>classes[0][1]:\n",
        "          if classes[0][0]>classes[0][3]:\n",
        "            print('Cyclone')\n",
        "    elif classes[0][0]>classes[0][3]:\n",
        "          if classes[0][0]>classes[0][1]:\n",
        "            print('Cyclone')\n",
        "  elif classes[0][0]>classes[0][3]:\n",
        "    if classes[0][0]>classes[0][1]:\n",
        "          if classes[0][0]>classes[0][2]:\n",
        "            print('Cyclone')\n",
        "    elif classes[0][0]>classes[0][2]:\n",
        "          if classes[0][0]>classes[0][1]:\n",
        "            print('Cyclone')"
      ],
      "execution_count": null,
      "outputs": []
    },
    {
      "cell_type": "code",
      "metadata": {
        "id": "-EeI9t4McpMI",
        "colab": {
          "base_uri": "https://localhost:8080/",
          "height": 562
        },
        "outputId": "528960e4-7864-45fa-a1ef-f5159ac03699"
      },
      "source": [
        "# PLOT LOSS AND ACCURACY\n",
        "%matplotlib inline\n",
        "\n",
        "import matplotlib.image  as mpimg\n",
        "import matplotlib.pyplot as plt\n",
        "\n",
        "#-----------------------------------------------------------\n",
        "# Retrieve a list of list results on training and test data\n",
        "# sets for each training epoch\n",
        "#-----------------------------------------------------------\n",
        "acc=history.history['accuracy']\n",
        "val_acc=history.history['val_accuracy']\n",
        "loss=history.history['loss']\n",
        "val_loss=history.history['val_loss']\n",
        "\n",
        "epochs=range(len(acc)) # Get number of epochs\n",
        "\n",
        "#------------------------------------------------\n",
        "# Plot training and validation accuracy per epoch\n",
        "#------------------------------------------------\n",
        "plt.plot(epochs, acc, 'r', \"Training Accuracy\")\n",
        "plt.plot(epochs, val_acc, 'b', \"Validation Accuracy\")\n",
        "plt.title('Training and validation accuracy')\n",
        "plt.figure()\n",
        "\n",
        "#------------------------------------------------\n",
        "# Plot training and validation loss per epoch\n",
        "#------------------------------------------------\n",
        "plt.plot(epochs, loss, 'r', \"Training Loss\")\n",
        "plt.plot(epochs, val_loss, 'b', \"Validation Loss\")\n",
        "\n",
        "\n",
        "plt.title('Training and validation loss')\n",
        "\n",
        "# Desired output. Charts with training and validation metrics. No crash :)"
      ],
      "execution_count": null,
      "outputs": [
        {
          "output_type": "execute_result",
          "data": {
            "text/plain": [
              "Text(0.5, 1.0, 'Training and validation loss')"
            ]
          },
          "metadata": {
            "tags": []
          },
          "execution_count": 9
        },
        {
          "output_type": "display_data",
          "data": {
            "image/png": "[encoded data removed]",
            "text/plain": [
              "<Figure size 432x288 with 1 Axes>"
            ]
          },
          "metadata": {
            "tags": [],
            "needs_background": "light"
          }
        },
        {
          "output_type": "display_data",
          "data": {
            "image/png": "[encoded data removed]",
            "text/plain": [
              "<Figure size 432x288 with 1 Axes>"
            ]
          },
          "metadata": {
            "tags": [],
            "needs_background": "light"
          }
        }
      ]
    },
    {
      "cell_type": "code",
      "metadata": {
        "id": "WdyYM4Uncsuu",
        "colab": {
          "base_uri": "https://localhost:8080/"
        },
        "outputId": "f461864e-8f3e-43cf-d604-c2c8ad9b49b0"
      },
      "source": [
        "tf.keras.models.save_model(\n",
        "  model, '/content/drive/MyDrive/Capstone/Disaster_Prediction3'\n",
        ")"
      ],
      "execution_count": null,
      "outputs": [
        {
          "output_type": "stream",
          "text": [
            "INFO:tensorflow:Assets written to: /content/drive/MyDrive/Capstone/Disaster_Prediction3/assets\n"
          ],
          "name": "stdout"
        }
      ]
    },
    {
      "cell_type": "code",
      "metadata": {
        "id": "zfckXx4AdSWr"
      },
      "source": [
        "model.save('/content/drive/MyDrive/Capstone/classification_model3.h5')\n"
      ],
      "execution_count": null,
      "outputs": []
    }
  ]
}